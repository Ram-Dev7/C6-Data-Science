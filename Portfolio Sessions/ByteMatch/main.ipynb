{
 "cells": [
  {
   "cell_type": "code",
   "execution_count": 2,
   "metadata": {},
   "outputs": [],
   "source": [
    "# Simplified example for bytematch\n",
    "\n",
    "reader_preferences = {\n",
    "    'Politics' : 0.8,\n",
    "    'Technology' : 0.6,\n",
    "    'Science' : 0.7\n",
    "}"
   ]
  },
  {
   "cell_type": "code",
   "execution_count": 8,
   "metadata": {},
   "outputs": [],
   "source": [
    "def byte_match(recommendation_scores):\n",
    "\n",
    "    sorted_recommendations = sorted(recommendation_scores.items(),\n",
    "                                    key=lambda x : x[1], reverse=True)\n",
    "    \n",
    "    top_recommendation = sorted_recommendations[0][0]\n",
    "\n",
    "    return f\"\"\"Based on your preferences,\n",
    "        we recommend checking out the following articles on {top_recommendation}\"\"\""
   ]
  },
  {
   "cell_type": "code",
   "execution_count": 9,
   "metadata": {},
   "outputs": [
    {
     "name": "stdout",
     "output_type": "stream",
     "text": [
      "Based on your preferences,\n",
      "        we recommend checking out the following articles on Politics\n"
     ]
    }
   ],
   "source": [
    "recommend = byte_match(reader_preferences)\n",
    "print(recommend)"
   ]
  },
  {
   "cell_type": "code",
   "execution_count": 10,
   "metadata": {},
   "outputs": [],
   "source": [
    "# Extended example to demonstrate additional features in the ByteMatch recommendation system\n",
    "\n",
    "import spacy\n",
    "from sklearn.feature_extraction.text import CountVectorizer\n",
    "from sklearn.metrics.pairwise import cosine_similarity"
   ]
  },
  {
   "cell_type": "code",
   "execution_count": 11,
   "metadata": {},
   "outputs": [],
   "source": [
    "articles = {\n",
    "    'Article One' : 'In the political arena, leaders discuss global issues.',\n",
    "    'Article Two' : 'The latest technological advancements shape our future.',\n",
    "    'Article Three' : 'Scientific breakthoughs revolutionize the way we live.'\n",
    "}\n",
    "\n",
    "user_preference = articles['Article One']"
   ]
  },
  {
   "cell_type": "code",
   "execution_count": 37,
   "metadata": {},
   "outputs": [],
   "source": [
    "nlp = spacy.load('en_core_web_md')\n",
    "\n",
    "def calculate_similarity(user_preference, articles):\n",
    "\n",
    "    vectors = [nlp(article).vector for article in articles.values()]\n",
    "\n",
    "    user_vector = nlp(user_preference).vector\n",
    "    similarity = cosine_similarity([user_vector], vectors)[0]\n",
    "\n",
    "    return dict(zip(articles.keys(), similarity))"
   ]
  },
  {
   "cell_type": "code",
   "execution_count": 39,
   "metadata": {},
   "outputs": [
    {
     "name": "stdout",
     "output_type": "stream",
     "text": [
      "{'Article One': 1.0, 'Article Two': 0.6743445, 'Article Three': 0.5960459}\n"
     ]
    }
   ],
   "source": [
    "scores = calculate_similarity(user_preference, articles)\n",
    "print(scores)"
   ]
  },
  {
   "cell_type": "code",
   "execution_count": 40,
   "metadata": {},
   "outputs": [
    {
     "name": "stdout",
     "output_type": "stream",
     "text": [
      "Based on your preferences,\n",
      "        we recommend checking out the following articles on Article One\n"
     ]
    }
   ],
   "source": [
    "recommend = byte_match(scores)\n",
    "print(recommend)"
   ]
  }
 ],
 "metadata": {
  "kernelspec": {
   "display_name": "venv",
   "language": "python",
   "name": "python3"
  },
  "language_info": {
   "codemirror_mode": {
    "name": "ipython",
    "version": 3
   },
   "file_extension": ".py",
   "mimetype": "text/x-python",
   "name": "python",
   "nbconvert_exporter": "python",
   "pygments_lexer": "ipython3",
   "version": "3.11.3"
  }
 },
 "nbformat": 4,
 "nbformat_minor": 2
}
