{
 "cells": [
  {
   "cell_type": "markdown",
   "metadata": {},
   "source": [
    "#### Working with SQLite : Introduction\n",
    "\n",
    "SQLite is built in Python to provide a relational database management system. It is\n",
    "very easy to set up, very fast and lightweight, and thus referred to as ‘lite’. Here are\n",
    "some very important features to note about SQLite: self-contained, serverless, with\n",
    "zero-configuration needed to run and transactional.\n",
    "\n",
    "● Self-Contained\n",
    "\n",
    "    This means that it does not need much support from the operating system\n",
    "    or external libraries. This makes it suited for use in embedded devices like\n",
    "    mobile phones, iPods and game devices that lack the infrastructure of a\n",
    "    computer. The source code is found in files called sqlite3.c and the header\n",
    "    file sqlite3.h. When you want to use SQLite in an application, ensure that you\n",
    "    have these files in your project directory when compiling your code.\n",
    "\n",
    "● Serverless\n",
    "\n",
    "    In most cases, relational database management systems require a separate\n",
    "    server to receive and respond to requests sent from the client.Such systems include MySQL and Java Database Client -JDBC. These clients\n",
    "    have to use the TCP/IP protocol to send and receive responses. This is\n",
    "    referred to as the Client/Server architecture. On the other hand, SQLite does\n",
    "    not make use of a separate server. While using SQLite, the application reads\n",
    "    and writes directly to the database files stored on the application server disk.\n",
    "\n",
    "● Zero-configuration\n",
    "\n",
    "    You don’t need to install SQLite prior to using it in an application or system.\n",
    "    This is because of the serverless characteristic described previously.\n",
    "\n",
    "● Transactional\n",
    "\n",
    "    All transactions in SQLite are Atomic, Consistent, Isolated, and Durable\n",
    "    (ACID- compliant). In other words, if a transaction occurs that attempts to\n",
    "    make changes to the databases, the changes will either be made in all the\n",
    "    appropriate places (in all linked tables and affected rows) or not at all. This is\n",
    "    to ensure data integrity."
   ]
  },
  {
   "cell_type": "markdown",
   "metadata": {},
   "source": [
    "#### Python's SQLite module\n",
    "\n",
    "It is easy to create and manipulate databases with Python. To allow us to use\n",
    "SQLite with Python, the Python Standard Library includes a module called \"sqlite3\".\n",
    "To use the SQLite3 module, we need to add an import statement to our Python\n",
    "script:"
   ]
  },
  {
   "cell_type": "code",
   "execution_count": 2,
   "metadata": {},
   "outputs": [],
   "source": [
    "import sqlite3"
   ]
  },
  {
   "cell_type": "markdown",
   "metadata": {},
   "source": [
    "We can then use the function sqlite3.connect to connect to the database. We\n",
    "pass the name of the database file to open or create it"
   ]
  },
  {
   "cell_type": "code",
   "execution_count": 3,
   "metadata": {},
   "outputs": [
    {
     "name": "stdout",
     "output_type": "stream",
     "text": [
      "Connection Established!\n"
     ]
    }
   ],
   "source": [
    "# Creates or opens a file called student_db with a SQLite3 DB\n",
    "\n",
    "db = sqlite3.connect('student_db')\n",
    "\n",
    "# Sanity check, because I'm paranoid.\n",
    "print('Connection Established!')"
   ]
  },
  {
   "cell_type": "markdown",
   "metadata": {},
   "source": [
    "#### Creating & deleting tables\n",
    "\n",
    "To make any changes to the database, we need a cursor object. A cursor object is\n",
    "an object that is used to execute SQL statements. Next, .commit is used to save\n",
    "changes to the database. It is important to remember to commit changes since\n",
    "this ensures the atomicity of the database. If you close the connection using close\n",
    "or the connection to the file is lost, changes that have not been committed will be\n",
    "lost.\n",
    "\n",
    "Below we create a student table with id, name and grade columns."
   ]
  },
  {
   "cell_type": "code",
   "execution_count": 4,
   "metadata": {},
   "outputs": [
    {
     "name": "stdout",
     "output_type": "stream",
     "text": [
      "Table Created!\n"
     ]
    }
   ],
   "source": [
    "cursor = db.cursor()\n",
    "\n",
    "cursor.execute('''\n",
    "    CREATE TABLE IF NOT EXISTS student(id INTEGER PRIMARY KEY, name TEXT,\n",
    "                grade INTEGER)\n",
    "''')\n",
    "\n",
    "db.commit()\n",
    "\n",
    "# Sanity check\n",
    "print('Table Created!')"
   ]
  },
  {
   "cell_type": "markdown",
   "metadata": {},
   "source": [
    "Always remember that the commit function is invoked on the db object, not the\n",
    "cursor object. If we type cursor.commit, we will get the following error message:\n",
    "“AttributeError: 'sqlite3.Cursor' object has no attribute 'commit'”"
   ]
  },
  {
   "cell_type": "markdown",
   "metadata": {},
   "source": [
    "#### Inserting into the Database\n",
    "\n",
    "To insert data, we use the cursor again to execute a SQL statement. When using\n",
    "data stored in Python variables to insert data into a database table, use the \"?\"\n",
    "placeholder. It is not secure to use string operations or concatenation to make your\n",
    "queries.\n",
    "In this example, we are going to insert two students into the database; their\n",
    "information is stored in Python variables.\n"
   ]
  },
  {
   "cell_type": "code",
   "execution_count": 7,
   "metadata": {},
   "outputs": [
    {
     "name": "stdout",
     "output_type": "stream",
     "text": [
      "First user added!\n",
      "Second user added!\n"
     ]
    }
   ],
   "source": [
    "id1 = 1001\n",
    "name1 = 'Jimbo'\n",
    "grade1 = 78\n",
    "\n",
    "id2 = 1002\n",
    "name2 = 'John'\n",
    "grade2 = 80\n",
    "\n",
    "# insert first student\n",
    "cursor.execute('''\n",
    "    INSERT INTO student(id, name, grade)\n",
    "                VALUES(?,?,?)\n",
    "''', (id1,name1,grade1))\n",
    "\n",
    "print('First user added!')\n",
    "\n",
    "cursor.execute('''\n",
    "    INSERT INTO student(id, name, grade)\n",
    "                VALUES(?,?,?)\n",
    "''', (id2,name2,grade2))\n",
    "\n",
    "print('Second user added!')\n",
    "\n",
    "db.commit()"
   ]
  },
  {
   "cell_type": "markdown",
   "metadata": {},
   "source": [
    "In the example below, the values of the Python variables are passed inside a tuple\n",
    "(you could also use a dictionary):"
   ]
  },
  {
   "cell_type": "code",
   "execution_count": 8,
   "metadata": {},
   "outputs": [
    {
     "name": "stdout",
     "output_type": "stream",
     "text": [
      "Third user added!\n"
     ]
    }
   ],
   "source": [
    "id3 = 1003\n",
    "name3 = 'Johnny'\n",
    "grade3 = 68\n",
    "\n",
    "cursor.execute('''\n",
    "    INSERT INTO student(id, name, grade)\n",
    "                VALUES(:id, :name, :grade)\n",
    "''', {'id':id3, 'name':name3, 'grade':grade3})\n",
    "\n",
    "print('Third user added!')\n",
    "\n",
    "db.commit()"
   ]
  },
  {
   "cell_type": "markdown",
   "metadata": {},
   "source": [
    "If you need to insert several users, use executemany and a list with the tuples:\n"
   ]
  },
  {
   "cell_type": "code",
   "execution_count": 10,
   "metadata": {},
   "outputs": [
    {
     "name": "stdout",
     "output_type": "stream",
     "text": [
      "Multiple users added\n"
     ]
    }
   ],
   "source": [
    "students_ = [(1004, name1, grade1),(1005, name2, grade2),(1006, name3, grade3)]\n",
    "\n",
    "cursor.executemany('''\n",
    "    INSERT INTO student(id, name, grade)\n",
    "                    VALUES(?,?,?)\n",
    "''', students_)\n",
    "\n",
    "print('Multiple users added')\n",
    "\n",
    "db.commit()"
   ]
  },
  {
   "cell_type": "markdown",
   "metadata": {},
   "source": [
    "If you need to get the id of the row you just inserted, use lastrowid:"
   ]
  },
  {
   "cell_type": "code",
   "execution_count": 13,
   "metadata": {},
   "outputs": [
    {
     "name": "stdout",
     "output_type": "stream",
     "text": [
      "Last row id : 1003\n"
     ]
    }
   ],
   "source": [
    "find_id = cursor.lastrowid\n",
    "print(f'Last row id : {find_id}')"
   ]
  },
  {
   "cell_type": "markdown",
   "metadata": {},
   "source": [
    "Use rollback to roll back any change to the database since the last call to commit:"
   ]
  },
  {
   "cell_type": "code",
   "execution_count": 14,
   "metadata": {},
   "outputs": [],
   "source": [
    "cursor.execute('''\n",
    "    UPDATE student SET grade=? WHERE id=?\n",
    "''', (65, 1002))\n",
    "\n",
    "db.rollback()"
   ]
  },
  {
   "cell_type": "markdown",
   "metadata": {},
   "source": [
    "#### Retrieving Data\n",
    "\n",
    "To retrieve data, execute a SELECT SQL statement against the cursor object and\n",
    "then use fetchone() to retrieve a single row or fetchall() to retrieve all the rows."
   ]
  },
  {
   "cell_type": "code",
   "execution_count": 15,
   "metadata": {},
   "outputs": [
    {
     "name": "stdout",
     "output_type": "stream",
     "text": [
      "('Johnny', 68)\n"
     ]
    }
   ],
   "source": [
    "id_ = 1003\n",
    "\n",
    "cursor.execute('''\n",
    "    SELECT name, grade FROM student WHERE id=?\n",
    "''', (id_,))\n",
    "\n",
    "student = cursor.fetchone()\n",
    "print(student)"
   ]
  },
  {
   "cell_type": "markdown",
   "metadata": {},
   "source": [
    "The cursor object works as an iterator, invoking fetchall() automatically"
   ]
  },
  {
   "cell_type": "code",
   "execution_count": 16,
   "metadata": {},
   "outputs": [
    {
     "name": "stdout",
     "output_type": "stream",
     "text": [
      "name : Jimbo grade : 78\n",
      "name : John grade : 80\n",
      "name : Johnny grade : 68\n",
      "name : Jimbo grade : 78\n",
      "name : John grade : 80\n",
      "name : Johnny grade : 68\n",
      "name : Jimbo grade : 78\n",
      "name : John grade : 80\n",
      "name : Johnny grade : 68\n"
     ]
    }
   ],
   "source": [
    "cursor.execute('''SELECT name, grade FROM student''')\n",
    "\n",
    "for row in cursor:\n",
    "    # row[0] returns the name column values and row[1] returns the grade column values\n",
    "    print(f'name : {row[0]} grade : {row[1]}')"
   ]
  },
  {
   "cell_type": "markdown",
   "metadata": {},
   "source": [
    "#### Updating and Deleting Data\n",
    "\n",
    "Updating or deleting data is practically the same as inserting data:\n"
   ]
  },
  {
   "cell_type": "code",
   "execution_count": null,
   "metadata": {},
   "outputs": [],
   "source": [
    "grade = 100\n",
    "id_ = 1001\n",
    "\n",
    "# update student id 1001\n",
    "cursor.execute('''\n",
    "    UPDATE student SET grade=? WHERE id=?\n",
    "''', (grade,id_))\n",
    "\n",
    "# Delete student id 1002\n",
    "id_2 = 1002\n",
    "\n",
    "cursor.execute('''DELETE FROM student WHERE id=?''', (id_2,))\n",
    "\n",
    "db.commit()"
   ]
  },
  {
   "cell_type": "markdown",
   "metadata": {},
   "source": [
    "When we are done working with the DB, we need to close the connection:"
   ]
  },
  {
   "cell_type": "code",
   "execution_count": null,
   "metadata": {},
   "outputs": [],
   "source": [
    "db.close()"
   ]
  },
  {
   "cell_type": "markdown",
   "metadata": {},
   "source": [
    "#### SQLite Database Exceptions\n",
    "\n",
    "It is very common for exceptions to occur when working with databases. It is\n",
    "important to handle these exceptions in your code.\n",
    "In the example below, we used a try/except/finally clause to catch any exception in\n",
    "the code. We put the code that we would like to execute but that may throw an\n",
    "exception (or cause an error) in the try block. Within the except block, we write the\n",
    "code that will be executed if an exception does occur. If no exception is thrown, the\n",
    "except block will be ignored. The finally clause will always be executed, whether\n",
    "an exception was thrown or not. When working with databases, the finally clause\n",
    "is very important, because it always closes the database connection correctly."
   ]
  },
  {
   "cell_type": "code",
   "execution_count": null,
   "metadata": {},
   "outputs": [],
   "source": [
    "try:\n",
    "    # Creates or opens a file called student_db with a SQLite3 DB\n",
    "    db = sqlite3.connect('student_db')\n",
    "\n",
    "    # Get a cursor object\n",
    "    cursor = db.cursor()\n",
    "\n",
    "    # Check if table users does not exist and create it\n",
    "    cursor.execute('''CREATE TABLE IF NOT EXISTS\n",
    "java_programming(id INTEGER PRIMARY KEY, name TEXT,\n",
    "grade INTEGER)''')\n",
    "    \n",
    "    # Commit the change\n",
    "    db.commit()\n",
    "\n",
    "# Catch the exception\n",
    "except Exception as e:\n",
    "\n",
    "    # Roll back any change if something goes wrong\n",
    "    db.rollback()\n",
    "    raise e\n",
    "\n",
    "finally:\n",
    "    # Close the db connection\n",
    "    db.close()"
   ]
  }
 ],
 "metadata": {
  "kernelspec": {
   "display_name": "john",
   "language": "python",
   "name": "python3"
  },
  "language_info": {
   "codemirror_mode": {
    "name": "ipython",
    "version": 3
   },
   "file_extension": ".py",
   "mimetype": "text/x-python",
   "name": "python",
   "nbconvert_exporter": "python",
   "pygments_lexer": "ipython3",
   "version": "3.11.3"
  }
 },
 "nbformat": 4,
 "nbformat_minor": 2
}
